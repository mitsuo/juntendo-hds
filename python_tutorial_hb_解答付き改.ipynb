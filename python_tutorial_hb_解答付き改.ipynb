{
  "nbformat": 4,
  "nbformat_minor": 0,
  "metadata": {
    "colab": {
      "provenance": [],
      "machine_shape": "hm",
      "gpuType": "V100"
    },
    "kernelspec": {
      "name": "python3",
      "display_name": "Python 3"
    },
    "accelerator": "GPU"
  },
  "cells": [
    {
      "cell_type": "markdown",
      "metadata": {
        "id": "zJhYWHWa2AQ2"
      },
      "source": [
        "# Python チュートリアル\n",
        "このコースでは心音データの解析をしながら、以下のことを学んでいきます。\n",
        "\n",
        "* Python の簡単な文法\n",
        "* 公開医療データのダウンロード\n",
        "* モジュールとは\n",
        "* Pandas の使い方\n",
        "* オーディオデータの構造\n",
        "* Numpy の使い方\n",
        "* Matplotlib の使い方\n",
        "\n",
        "本講演でPythonの文法・ライブラリの全てを会得することは想定していません。Pythonの雰囲気やどのようなことに使えるのか理解し、その後の学習のモチベーションに大きくつながっていただけると嬉しいです。\n"
      ]
    },
    {
      "cell_type": "markdown",
      "metadata": {
        "id": "LAzG7DADnITU"
      },
      "source": [
        "> 目次は左のバーの３本線マークを押すと表示されます。他にもGoogle Colabにはいろんな機能があるので、色々試してみましょう。\n",
        "\n",
        "---"
      ]
    },
    {
      "cell_type": "markdown",
      "metadata": {
        "id": "ifSFcoBJ3UBp"
      },
      "source": [
        "# Pythonの簡単な文法"
      ]
    },
    {
      "cell_type": "markdown",
      "metadata": {
        "id": "V6uUcdv_kvcy"
      },
      "source": [
        "## Google Colabの使い方\n",
        "---\n",
        "\n",
        "Google Colabノートブックは複数のセルで構成されます。\n",
        "\n",
        "セルには**テキストセル**と**コードセル**の2種類があります。\n",
        "\n",
        "テキストセル（この文章が書かれている場所）にはテキストのみを，コードセルにはPythonなどのプログラムを記述することができます・\n",
        "\n",
        "コードセルでは、記述したプログラムにおける，最後に書いた値が表示されます。\n",
        "\n",
        "コードセルを実行するには，実行したいセルの左端の再生ボタンを押します。"
      ]
    },
    {
      "cell_type": "code",
      "metadata": {
        "id": "Gnv7oKkL8ss3"
      },
      "source": [
        "# ここはコードセルです。\n",
        "\"生体情報解析基礎\""
      ],
      "execution_count": null,
      "outputs": []
    },
    {
      "cell_type": "markdown",
      "metadata": {
        "id": "0msmLY8uVMkk"
      },
      "source": [
        "## 標準入出力\n",
        "---\n",
        "\n",
        "標準入力とは，キーボードからの入力のことで，標準出力とは，ディスプレイへの出力のことです。"
      ]
    },
    {
      "cell_type": "code",
      "metadata": {
        "id": "R3QFz-eP_9mG"
      },
      "source": [
        "s = input(\"あなたの名前を入れてください→ \")\n",
        "print(s,\" は生体情報解析基礎の授業に参加しています\")"
      ],
      "execution_count": null,
      "outputs": []
    },
    {
      "cell_type": "markdown",
      "metadata": {
        "id": "-yTCsIUNj2Fj"
      },
      "source": [
        "## 変数\n",
        "---\n",
        "\n",
        "変数は、値を保持する「箱」のようなものです。\n",
        "\n",
        "変数には、数値や文字列など、どんな値でも入れることができます。\n",
        "\n",
        "変数に値を入れることを「代入」と言います。\n",
        "\n",
        "変数に値を代入するには、「=」を使います。\n",
        "\n",
        "変数名には、アルファベット・数字・アンダーバーの組み合わせが使えますが、数字から始まる変数名は無効です。"
      ]
    },
    {
      "cell_type": "code",
      "metadata": {
        "id": "JArxJA67-qwf"
      },
      "source": [
        "a = 123\n",
        "b = -23\n",
        "sample_string = \"Artificial Intelligence\""
      ],
      "execution_count": null,
      "outputs": []
    },
    {
      "cell_type": "markdown",
      "metadata": {
        "id": "ighnSbq_zirs"
      },
      "source": [
        "## 演算\n",
        "---\n",
        "\n",
        "演算には、以下のように様々な種類があります。\n",
        "- +：足し算\n",
        "- \\- ：引き算\n",
        "- \\*：掛け算\n",
        "- /：割り算の商\n",
        "- %：割り算の剰余\n",
        "- \\*\\*：累乗"
      ]
    },
    {
      "cell_type": "code",
      "metadata": {
        "id": "BvWDi8nt-zyR"
      },
      "source": [
        "print(12 + 3,\n",
        "      \"\\n\", # 改行を出力するときは　\\n を入力します。（\\ はバックスラッシュと言ってパソコンの機種で打ち方が変わるので、調べましょう。）\n",
        "      4 * 4,\n",
        "      \"\\n\",\n",
        "      12 / 5,\n",
        "      \"\\n\",\n",
        "      12 / 5.0,\n",
        "      \"\\n\",\n",
        "      12 % 5,\n",
        "      \"\\n\",\n",
        "      5 ** 3,\n",
        "      \"\\n\",\n",
        "      a + b,\n",
        "      \"\\n\",\n",
        "      \"What is \" + sample_string,\n",
        "      \"\\n\",\n",
        "      str(a) + sample_string) # 文字列に変換するときは、str()が使えます。"
      ],
      "execution_count": null,
      "outputs": []
    },
    {
      "cell_type": "markdown",
      "metadata": {
        "id": "gOleysFXW9Rq"
      },
      "source": [
        "## 条件分岐\n",
        "---\n",
        "\n",
        "値に応じてプログラムの処理を変更したいときは、if 文を使って条件分岐を行います。\n",
        "\n",
        "### if文の書式\n",
        "```\n",
        "if 条件式A:\n",
        "  条件式Aが真であるときに実行したい処理\n",
        "elif 条件式B:\n",
        "  条件式Aが偽で，条件式Bが真であるときに実行したい処理\n",
        "elif 条件式C:\n",
        "  ...\n",
        "else:\n",
        "  全ての条件が偽であるときに実行したい処理\n",
        "```\n",
        "\n",
        "if文の中で実行したい処理には、インデント（字下げ）することに注意しましょう。\n",
        "インデントするには、tabキーを押します。\n",
        "\n",
        "### if文で使える条件式\n",
        "- ==（等号）：右辺と左辺が等しいときのみ真\n",
        "- !=（ノットイコール）：右辺と左辺が等しくないときのみ真\n",
        "- <（小なり）：左辺が右辺より小さいとき真\n",
        "- <=（小なりイコール）：左辺が右辺以下であるとき真\n",
        "- \\>（大なり）：左辺が右辺より大きいとき真\n",
        "- \\>=（大なりイコール）：左辺が右辺以上であるとき真"
      ]
    },
    {
      "cell_type": "code",
      "metadata": {
        "id": "IKSSr0QDaz3z"
      },
      "source": [
        "pressure = input(\"血圧をいれてください。\") # 出力セルで数値を入力したい時は input() が使えます\n",
        "\n",
        "#inputで入るのは文字列なのでint()で囲うこと数字に変換する↓\n",
        "pressure = int(pressure)\n",
        "\n",
        "if pressure >= 140:\n",
        "    print(\"あなたは高血圧です\")\n",
        "elif pressure >=130:\n",
        "    print(\"あなたは高値血圧です\")\n",
        "else:\n",
        "    print(\"あなたは正常血圧です\")"
      ],
      "execution_count": null,
      "outputs": []
    },
    {
      "cell_type": "markdown",
      "metadata": {
        "id": "hd3UnBVglGHP"
      },
      "source": [
        "## リスト\n",
        "---\n",
        "\n",
        "リストは，数値や文字列，様々な値を複数持つことができるデータ構造です。\n",
        "\n",
        "例えば，リストは以下のように表されます。\n",
        "```\n",
        "even_list = [2, 4, 6, 8, 10]\n",
        "string_list = [\"abc\", \"def\", \"hello\", \"world\"]\n",
        "```\n",
        "\n",
        "リストの中のn番目の要素にアクセスするには，リストを格納した変数の後ろに `[n]` を付けて表します。ここで、要素番号は0から始まるので、左から数えて４番目の要素のインデックスは $4-1=3$ になります。\n",
        "```\n",
        "even_list[3]  # 8が出力される\n",
        "string_list[0]  # \"abc\"が出力される\n",
        "```\n",
        "\n",
        "リストのリストを定義することもできます。「リストの入れ子」「多次元リスト」とも呼びます。\n",
        "```\n",
        "list_of_list = [[1, 2, 3], [2, 3, 4], [5, 6, 7, 8]]\n",
        "list_of_list[0]  # [1, 2, 3]が出力される\n",
        "list_of_list[1][2]  # 4が出力される\n",
        "```"
      ]
    },
    {
      "cell_type": "markdown",
      "metadata": {
        "id": "8c3y7Ex5kz3L"
      },
      "source": [
        "## 繰り返し（for文）\n",
        "---\n",
        "\n",
        "for文の書式を以下に示します。\n",
        "\n",
        "```\n",
        "for ループ変数 in リスト:\n",
        "  繰り返したい処理\n",
        "```\n",
        "\n",
        "ループ変数には、リストの要素が頭から順番に代入されていきます。\n",
        "そしてそのたびに繰り返したい処理が繰り返されます。\n",
        "\n",
        "for文の中で繰り返したい処理には、インデント（字下げ）することに注意しましょう。"
      ]
    },
    {
      "cell_type": "code",
      "metadata": {
        "id": "jvJiNqLWW4ZF"
      },
      "source": [
        "muscle = \"sternocleidmastoid\" #変数muscleにsternocleidmastoidを代入\n",
        "\n",
        "for i in range(5):\n",
        "  print(muscle)"
      ],
      "execution_count": null,
      "outputs": []
    },
    {
      "cell_type": "markdown",
      "metadata": {
        "id": "l7Wc4pwSUdoZ"
      },
      "source": [
        "## 関数\n",
        "---\n",
        "\n",
        "プログラミングでは、まとまった同じ処理を複数行うことがよくあります。\n",
        "\n",
        "そのとき、それらの処理を全部書いているとプログラムの行数が増えて読みにくくなってしまいます。\n",
        "\n",
        "そこで、「処理のまとまり」を表現する書式が生まれました。それが関数です。\n",
        "\n",
        "関数を定義する書式を以下に示します。\n",
        "```\n",
        "def 関数名():\n",
        "  処理\n",
        "```\n",
        "\n",
        "関数を実行する書式を以下に示します。\n",
        "```\n",
        "関数名()\n",
        "```\n",
        "\n",
        "それではカレーを作ってみましょう。"
      ]
    },
    {
      "cell_type": "code",
      "metadata": {
        "id": "s35z5y0JXSpz"
      },
      "source": [
        "def curry():\n",
        "  print('カレーを作ります')\n",
        "  print('↓')\n",
        "  print('まず肉を炒めます')\n",
        "  print('↓')\n",
        "  print('その後野菜をいためます。')\n",
        "  print('↓')\n",
        "  print('ルーを入れて煮込むと完成です。')\n",
        "  print('↓')\n",
        "  print('肉と野菜のカレーの完成です')\n",
        "\n",
        "curry()"
      ],
      "execution_count": null,
      "outputs": []
    },
    {
      "cell_type": "markdown",
      "metadata": {
        "id": "C54QSvwsW9E9"
      },
      "source": [
        "次に，引数と戻り値付きの関数を定義する書式を以下に示します。\n",
        "```\n",
        "def 関数名(引数名):\n",
        "  処理\n",
        "  return 戻り値\n",
        "```\n",
        "\n",
        "関数を実行して、戻り値を変数$x$に代入する書式を以下に示します。\n",
        "```\n",
        "x = 関数名(引数)\n",
        "```\n",
        "\n",
        "戻り値とは，関数によって生成され，関数の外のプログラムに渡す値のことです。\n",
        "\n",
        "それでは、カレーを作った後に、足し算を行う関数addを定義して実行してみます。\n",
        "\n",
        "\n"
      ]
    },
    {
      "cell_type": "code",
      "metadata": {
        "id": "JjPeQKE6c0mO"
      },
      "source": [
        "def add(a, b):\n",
        "    curry()\n",
        "    return a + b\n",
        "\n",
        "add(4, 8)"
      ],
      "execution_count": null,
      "outputs": []
    },
    {
      "cell_type": "markdown",
      "metadata": {
        "id": "VyFa9OIKJqcN"
      },
      "source": [
        "さてPythonの文法がわかったところで、実際の医療データ解析をしてみましょう。"
      ]
    },
    {
      "cell_type": "markdown",
      "metadata": {
        "id": "Ra3A1_BmDc-b"
      },
      "source": [
        "# 公開医療データのダウンロード\n",
        "今回は 公開されている [The PASCAL Classifying Heart Sounds Challenge 2011](http://www.peterjbentley.com/heartchallenge/index.html)（CHSC2011） という心音データをダウンロードしてみましょう。このデータは心音のS1領域・S2領域を特定するというタスクと、正常か異常かを分類するタスクの2つを解かせるために公開されています。\n",
        "\n",
        "まず **linuxコマンド** を使って 公開されているデータをダウンロードしましょう。下のセルでは `heartbeat` というディレクトリをデフォルトのディレクトリ `/content` の下に作成し、そこに関連データをダウンロードしています。\n",
        "\n",
        "> コマンドとはコンピュータに計算やファイルの操作を行うように指示できるツールです。今回は詳しく触れませんが、colabのようなノートブックではpythonとコマンドを混ぜて使えるのが一つの強みです。"
      ]
    },
    {
      "cell_type": "code",
      "source": [
        "rm -rf /content/heartbeat"
      ],
      "metadata": {
        "id": "PNVA7iCkG122"
      },
      "execution_count": null,
      "outputs": []
    },
    {
      "cell_type": "code",
      "metadata": {
        "id": "BTN_9KKyMGIJ"
      },
      "source": [
        "# ! を先頭につけると一時的に適応される。例えばワーキングディレクトリの移動をしてもその後のコマンドには適応されない。\n",
        "# heartbeat ディレクトリを作成します。\n",
        "!rm -rf /content/heartbeat\n",
        "!mkdir /content/heartbeat\n",
        "!pwd\n",
        "\n",
        "# % を先頭につけると永続的に適応される。ワーキングディレクトリの移動をしてもその後も適応される。\n",
        "# heartbeat ディレクトリに移動します。\n",
        "%cd /content/heartbeat\n",
        "!ls\n",
        "\n",
        "# S1とS2の位置が記録されているデータのダウンロード\n",
        "#!wget http://www.peterjbentley.com/heartchallenge/Atraining_normal_seg.csv\n",
        "!wget http://mitsuo.nishizawa.com/juntendo/Atraining_normal_seg.csv\n",
        "\n",
        "# 正常心音データのダウンロード（zipの中身はaifファイル）\n",
        "#!wget http://www.peterjbentley.com/heartchallenge/Atraining_normal.zip\n",
        "!wget http://mitsuo.nishizawa.com/juntendo/Atraining_normal.zip\n",
        "!unzip Atraining_normal.zip\n",
        "!ls\n",
        "%cd .."
      ],
      "execution_count": null,
      "outputs": []
    },
    {
      "cell_type": "markdown",
      "metadata": {
        "id": "QxQWY82dKKok"
      },
      "source": [
        "ダウンロードされたファイルは左のバーのフォルダーマークを押すとみることができます。"
      ]
    },
    {
      "cell_type": "markdown",
      "metadata": {
        "id": "uf-MR6g9GLhB"
      },
      "source": [
        "今回はいろんなPythonモジュールを使って、一つの心音データを図示することを目標にしましょう。"
      ]
    },
    {
      "cell_type": "markdown",
      "metadata": {
        "id": "efQO7UrF6FAV"
      },
      "source": [
        "# モジュールとは"
      ]
    },
    {
      "cell_type": "markdown",
      "metadata": {
        "id": "5RnkcCG_hwsd"
      },
      "source": [
        "あらかじめ定義された関数群をモジュールといいます。\n",
        "\n",
        "科学技術計算や機械学習、アプリケーション開発では、同じ複雑な処理を複数回行うことがあるので、先人達がすでに有用な関数を実装してくれています。\n",
        "\n",
        "モジュールを使うには、import文を使います。\n",
        "\n",
        "import文を使うことで、そのモジュールが、今自分の書いているプログラムの中で定義されているように使用することができます。\n",
        "\n",
        "```\n",
        "import モジュール名 as モジュールを代入する変数名\n",
        "```"
      ]
    },
    {
      "cell_type": "markdown",
      "metadata": {
        "id": "TH6AXLDPX5Hs"
      },
      "source": [
        "まずはデータがどんな構造をしているのかみていくために、`pandas`というモジュールを使っていきましょう。"
      ]
    },
    {
      "cell_type": "markdown",
      "metadata": {
        "id": "CGctplMwFyrF"
      },
      "source": [
        "# Pandasの使い方"
      ]
    },
    {
      "cell_type": "markdown",
      "metadata": {
        "id": "RaZirVrl6BGB"
      },
      "source": [
        "Pandasとは、テーブルデータの処理に特化したライブラリです。データフレームと呼ばれる形式のデータを加工することができ、データの結合や切り取り、表計算、時系列データの取り扱いなどが可能です。また、簡単なグラフ化も同時にできます。\n",
        "\n",
        "Pandasは、データサイエンスの分野でよく使われるライブラリで、機械学習を行う前にデータの整形を行う前処理のツールとして使用することが多いです。"
      ]
    },
    {
      "cell_type": "markdown",
      "metadata": {
        "id": "HSehZ6EcxzQB"
      },
      "source": [
        "## csvデータの読み込み"
      ]
    },
    {
      "cell_type": "markdown",
      "metadata": {
        "id": "xQFMD97sII7F"
      },
      "source": [
        "まずはCHSCデータのS1とS2の位置情報がまとまっているcsvファイルの中身をみてみましょう。pandas は慣例的に`pd`としてimportします。\n",
        "`pd.read_csv(ファイル名)`でデータを読み込めます。"
      ]
    },
    {
      "cell_type": "code",
      "metadata": {
        "id": "V7CcxrJ8-7a1"
      },
      "source": [
        "import pandas as pd\n",
        "\n",
        "csv_path = \"/content/heartbeat/Atraining_normal_seg.csv\"\n",
        "df = pd.read_csv(csv_path) # DataFrame の頭文字をとってよく変数名に df が使われます。"
      ],
      "execution_count": null,
      "outputs": []
    },
    {
      "cell_type": "markdown",
      "metadata": {
        "id": "9oKdO_bDx2uB"
      },
      "source": [
        "## データフレームの情報"
      ]
    },
    {
      "cell_type": "markdown",
      "metadata": {
        "id": "PiVnLpUUKn6_"
      },
      "source": [
        "`df.head()`で先頭の５行をみることができます。"
      ]
    },
    {
      "cell_type": "code",
      "metadata": {
        "id": "IhrpxCOQ_poP"
      },
      "source": [
        "df.head()"
      ],
      "execution_count": null,
      "outputs": []
    },
    {
      "cell_type": "markdown",
      "metadata": {
        "id": "uUHyWFjFMil8"
      },
      "source": [
        "各行は一つ一つの心音データに関する情報を表してます。それぞれデータが記録されているファイル名とS1、S2それぞれの位置情報を表していると考えられます。\n",
        "\n"
      ]
    },
    {
      "cell_type": "markdown",
      "metadata": {
        "id": "0ntCeorXVGGC"
      },
      "source": [
        "`df.shape`でデータのサイズをみることができます。"
      ]
    },
    {
      "cell_type": "code",
      "metadata": {
        "id": "k_h-9Y-LVPaf"
      },
      "source": [
        "df.shape"
      ],
      "execution_count": null,
      "outputs": []
    },
    {
      "cell_type": "markdown",
      "metadata": {
        "id": "tAYwvT3syHk8"
      },
      "source": [
        "21件のデータがあることがわかります。"
      ]
    },
    {
      "cell_type": "markdown",
      "metadata": {
        "id": "e3g2Rl07x-d-"
      },
      "source": [
        "## データの抽出"
      ]
    },
    {
      "cell_type": "markdown",
      "metadata": {
        "id": "wZcKBaAVUqOv"
      },
      "source": [
        "特定の列を取り出したい時は、`df[列の名前]`あるいは`df.列の名前`で取り出せます。列が全部取ってこられるので、特定の行を取り出したい時はそのインデックスを指定する必要があります。\n",
        "\n",
        "`Unnamed: 0`という列のインデックスが`1`の要素の中身をみてみましょう。"
      ]
    },
    {
      "cell_type": "code",
      "metadata": {
        "id": "kUOHBIjaTEMH"
      },
      "source": [
        "index = 1\n",
        "FILE = df[\"Unnamed: 0\"][index]\n",
        "FILE"
      ],
      "execution_count": null,
      "outputs": []
    },
    {
      "cell_type": "markdown",
      "metadata": {
        "id": "av8TnuGrUoLH"
      },
      "source": [
        "波形のデータが記録されているファイル名は、`Unnamed: 0`に書かれています。"
      ]
    },
    {
      "cell_type": "markdown",
      "metadata": {
        "id": "BhIi5wIiBJiO"
      },
      "source": [
        "少し発展してS1とS2に関する情報をそれぞれ抽出してみましょう。"
      ]
    },
    {
      "cell_type": "code",
      "metadata": {
        "id": "8Vzh730eB_hX"
      },
      "source": [
        "cols = df.columns.values # .valuesでデータフレームの中身の値をとってこれる\n",
        "\n",
        "s1cols = [col for col in cols if col[:2] == \"S1\" ] # 最初の２文字がS1の列名を格納\n",
        "s2cols = [col for col in cols if col[:2] == \"S2\" ] # 最初の２文字がS2の列名を格納\n",
        "\n",
        "s1data = df.loc[index,s1cols].values # データフレーム.values で中身の値の配列が返される\n",
        "s2data = df.loc[index,s2cols].values\n",
        "\n",
        "print(s1data, \"\\n\", s2data)"
      ],
      "execution_count": null,
      "outputs": []
    },
    {
      "cell_type": "markdown",
      "metadata": {
        "id": "xiR0ll_-RavG"
      },
      "source": [
        "次は取得した`FILE`にどのようなデータが入っているのかみてみましょう。"
      ]
    },
    {
      "cell_type": "markdown",
      "metadata": {
        "id": "4oymD0W2vS0D"
      },
      "source": [
        "# オーディオデータの構造"
      ]
    },
    {
      "cell_type": "markdown",
      "metadata": {
        "id": "-wAo8ZQce3Z9"
      },
      "source": [
        "\n",
        "\n",
        "今回は心音データが `aif` というファイル形式を扱うので、それに特化した `aifc` というモジュールを使用します。今回のように知らないモジュールを使う場面に沢山出くわしますが、全ての使い方を覚えなければいけないというわけではありません。知らない人でも使えるように、モジュールを作った人たちが使い方の解説を書いてくれています。色んなサイトで使い方の記事がありますが、基本的には公式のドキュメントが一番正確です。今回の `aifc` というモジュールはPythonにもともと入っている標準ライブラリで、[こちらのPython公式ドキュメント](https://docs.python.org/ja/3/library/aifc.html)に使い方が書いてあるので、参考にしながら使ってみます。"
      ]
    },
    {
      "cell_type": "markdown",
      "metadata": {
        "id": "UTHxahy5j67D"
      },
      "source": [
        "まずは先程 `pandas` で抽出したデータの保存先ファイル名から読み込んでどんなデータなのかみてみましょう。"
      ]
    },
    {
      "cell_type": "code",
      "metadata": {
        "id": "wIpnjApSe3Iw"
      },
      "source": [
        "import aifc\n",
        "\n",
        "PATH = \"/content/heartbeat/Atraining_normal/\" + FILE # ファイル名だけでなく、ファイルの場所を指定する必要がある（パス）\n",
        "print(PATH)\n",
        "#!ls /content/heartbeat/Atraining_normal/201101151127.aif\n",
        "f = aifc.open(PATH,mode='rb')\n",
        "params = f.getparams()\n",
        "params"
      ],
      "execution_count": null,
      "outputs": []
    },
    {
      "cell_type": "markdown",
      "metadata": {
        "id": "RqwSir0jnnv-"
      },
      "source": [
        "公式ドキュメントによると、\n",
        "> オーディオファイルには、オーディオデータについて記述したパラメータがたくさん含まれています。サンプリングレートあるいはフレームレートは、1秒あたりのオーディオサンプル数です。チャンネル数は、モノラル、ステレオ、4チャンネルかどうかを示します。フレームはそれぞれ、チャンネルごとに一つのサンプルからなります。サンプルサイズは、一つのサンプルの大きさをバイト数で示したものです。したがって、一つのフレームは `nchannels * samplesize` バイト からなり、1秒間では `nchannels * samplesize * framerate` バイトで構成されます。\n",
        "\n",
        "ということなので、上の`params`で返されたメタ情報から今回の音声ファイルは\n",
        "\n",
        "```\n",
        "チャンネル数 = 1 （モノラル）\n",
        "サンプルサイズ = 2 [byte]\n",
        "サンプリングレート = 44100 [Hz]\n",
        "```\n",
        "で一つのフレームは `1 * 2 = 2 [byte]` 、１秒間では `1 * 2 * 44100 = 88200 [byte]` であることがわかります。"
      ]
    },
    {
      "cell_type": "code",
      "metadata": {
        "id": "xrkrXrycseLW"
      },
      "source": [
        "nframes = f.getnframes()\n",
        "framerate = f.getframerate()\n",
        "T = nframes / framerate\n",
        "T"
      ],
      "execution_count": null,
      "outputs": []
    },
    {
      "cell_type": "markdown",
      "metadata": {
        "id": "cOhXBn8bszlP"
      },
      "source": [
        "長さは 6.28 [s] であることもわかります。このようにオーディオデータはフレームという単位に情報が格納されています。"
      ]
    },
    {
      "cell_type": "markdown",
      "metadata": {
        "id": "ooxs4YHmrksJ"
      },
      "source": [
        "次に全てのフレームのデータを抽出しましょう。"
      ]
    },
    {
      "cell_type": "code",
      "metadata": {
        "id": "2hP5fooMxNpE"
      },
      "source": [
        "frames = f.readframes(nframes) # 抽出するフレーム数を指定する\n",
        "print(type(frames))"
      ],
      "execution_count": null,
      "outputs": []
    },
    {
      "cell_type": "markdown",
      "metadata": {
        "id": "5fUmz8Eaxe6Q"
      },
      "source": [
        "Pythonでは扱うデータをオブジェクトと呼びますが、オブジェクトの型は `type(object)` でみることができます。フレームデータはバイト型であることがわかりました。"
      ]
    },
    {
      "cell_type": "markdown",
      "metadata": {
        "id": "raUDCo1OUmLD"
      },
      "source": [
        "開いたファイルは閉じてあげます。"
      ]
    },
    {
      "cell_type": "code",
      "metadata": {
        "id": "YtBb-QkkUiQj"
      },
      "source": [
        "f.close()"
      ],
      "execution_count": null,
      "outputs": []
    },
    {
      "cell_type": "markdown",
      "metadata": {
        "id": "vgsbLAX4vhU1"
      },
      "source": [
        "それでは心音データをnumpy配列として変換してみましょう。データをnumpy配列として扱うことは機械学習において後々楽になることが多いです。"
      ]
    },
    {
      "cell_type": "markdown",
      "metadata": {
        "id": "FtjaouDZF5KE"
      },
      "source": [
        "# Numpyの使い方"
      ]
    },
    {
      "cell_type": "markdown",
      "metadata": {
        "id": "D41gEx1Cvqii"
      },
      "source": [
        "numpy は行列の処理に非常に長けたモジュールです。"
      ]
    },
    {
      "cell_type": "markdown",
      "metadata": {
        "id": "W7n5RE-ifTfu"
      },
      "source": [
        "\n",
        "\n",
        "慣例的に`np`でimportします。"
      ]
    },
    {
      "cell_type": "code",
      "metadata": {
        "id": "tfLjI5wpgkEX"
      },
      "source": [
        "import numpy as np"
      ],
      "execution_count": null,
      "outputs": []
    },
    {
      "cell_type": "markdown",
      "metadata": {
        "id": "upijDsI9yMvY"
      },
      "source": [
        "## Numpy配列"
      ]
    },
    {
      "cell_type": "markdown",
      "metadata": {
        "id": "S5S3HEzw80ri"
      },
      "source": [
        "次に、Numpyで定義されたリストの拡張である「Numpy配列」を使います。\n",
        "\n",
        "Numpy配列は，以下のように使います。\n",
        "```\n",
        "np.array(リスト)\n",
        "```\n",
        "\n",
        "次に使用例を示します。"
      ]
    },
    {
      "cell_type": "code",
      "metadata": {
        "id": "90RH7WtGikD8"
      },
      "source": [
        "a = np.array([1, 2, 4])\n",
        "a"
      ],
      "execution_count": null,
      "outputs": []
    },
    {
      "cell_type": "markdown",
      "metadata": {
        "id": "yvpdMsUw9xkC"
      },
      "source": [
        "Numpy配列には、多次元リスト（リストのリスト）を渡すこともできます。\n",
        "\n",
        "多次元リストをNumpy配列に渡すと，多次元配列と呼ばれます。\n",
        "\n",
        "このようにして、行列やベクトルを表現できます。\n",
        "\n"
      ]
    },
    {
      "cell_type": "code",
      "metadata": {
        "id": "pil3Pb859hTm"
      },
      "source": [
        "matrix = np.array([[1, 2, 3], [2, 3, 4], [3, 4, 5]])\n",
        "matrix"
      ],
      "execution_count": null,
      "outputs": []
    },
    {
      "cell_type": "code",
      "metadata": {
        "id": "OnQibaLF_ssA"
      },
      "source": [
        "vector = np.array([[1], [2], [3]])\n",
        "vector"
      ],
      "execution_count": null,
      "outputs": []
    },
    {
      "cell_type": "markdown",
      "metadata": {
        "id": "Muf8RHHLCAjz"
      },
      "source": [
        "Numpy配列の形を調べたいときは、np.array.shapeを参照します。"
      ]
    },
    {
      "cell_type": "code",
      "metadata": {
        "id": "Aip1HLmkCKHS"
      },
      "source": [
        "matrix.shape"
      ],
      "execution_count": null,
      "outputs": []
    },
    {
      "cell_type": "markdown",
      "metadata": {
        "id": "vLw190FOyRSg"
      },
      "source": [
        "## 行列の演算"
      ]
    },
    {
      "cell_type": "markdown",
      "metadata": {
        "id": "MkUrDOEUDIuE"
      },
      "source": [
        "Pythonのリストよりも、Numpy配列の方が線形代数演算に向いています。\n",
        "\n",
        "ベクトルや行列を含む計算には、積極的にNumpy配列を使います。\n",
        "\n",
        "例えばこのように、`+`記号でベクトル同士の和を表現できたり、`*`記号で定数倍を表現できます。\n",
        "\n"
      ]
    },
    {
      "cell_type": "code",
      "metadata": {
        "id": "08LzxlzyIAGl"
      },
      "source": [
        "vector_2 = np.array([[2], [5], [6]])\n",
        "vector + vector_2"
      ],
      "execution_count": null,
      "outputs": []
    },
    {
      "cell_type": "code",
      "metadata": {
        "id": "C4NgMdmkIU9_"
      },
      "source": [
        "3 * vector"
      ],
      "execution_count": null,
      "outputs": []
    },
    {
      "cell_type": "markdown",
      "metadata": {
        "id": "D_r1zWtnH8U9"
      },
      "source": [
        "@演算を使って行列同士の積や行列とベクトルの積を表現できます。"
      ]
    },
    {
      "cell_type": "code",
      "metadata": {
        "id": "-7JBtb0MDuzF"
      },
      "source": [
        "matrix @ vector"
      ],
      "execution_count": null,
      "outputs": []
    },
    {
      "cell_type": "markdown",
      "metadata": {
        "id": "ga3jdmmC0_2W"
      },
      "source": [
        "*Note*\n",
        "> 実は行列演算に特化している点とは別にNumpyを使う大きなメリットがあります。それは**実行時間**\n",
        "です。Numpyの内部ではC言語によって記述されていて、また行列演算にはBLAS APIという高性能の行列演算ライブラリを用いているのでPythonとは比べ物にならないくらい高速となります。"
      ]
    },
    {
      "cell_type": "markdown",
      "metadata": {
        "id": "CYr1DYPzwvg3"
      },
      "source": [
        "## フレームデータの変換\n",
        "それではバイト型のフレームデータを numpy配列 に変換してみましょう。`np.frombuffer(bytes file, dtype = \"型を指定\")` で変換することができます。\n",
        "\n",
        "また今回は1フレームで`2 [byte] = 16 [bit]`なのでファイル規格から `dtype = \"int16\"` を指定することも大事です。データの構造も知っている必要はなくて、わからなかったことは調べたら出てきます。"
      ]
    },
    {
      "cell_type": "code",
      "metadata": {
        "id": "syNiBY6SY4dQ"
      },
      "source": [
        "data = np.frombuffer(frames, dtype=\"int16\")\n",
        "data"
      ],
      "execution_count": null,
      "outputs": []
    },
    {
      "cell_type": "markdown",
      "metadata": {
        "id": "DPR9BkrMKJFX"
      },
      "source": [
        "## S1、S2データの整形"
      ]
    },
    {
      "cell_type": "code",
      "metadata": {
        "id": "LPW87t99KPDg"
      },
      "source": [
        "s1data"
      ],
      "execution_count": null,
      "outputs": []
    },
    {
      "cell_type": "markdown",
      "metadata": {
        "id": "vXmhBWw3JyBi"
      },
      "source": [
        "配列の中身をみるとわかりますが、nan が混ざっていたり、小数点がついていたりついてなかったりするので、整形しましょう。"
      ]
    },
    {
      "cell_type": "code",
      "metadata": {
        "id": "Iw0mMNf_K1Ip"
      },
      "source": [
        "s1data = s1data.astype(np.int32)"
      ],
      "execution_count": null,
      "outputs": []
    },
    {
      "cell_type": "code",
      "metadata": {
        "id": "CnOoQsf3Jxtw"
      },
      "source": [
        "s1data = s1data.astype(np.float32)\n",
        "s2data = s2data.astype(np.float32)\n",
        "\n",
        "print(s1data, \"\\n\", s2data)"
      ],
      "execution_count": null,
      "outputs": []
    },
    {
      "cell_type": "markdown",
      "metadata": {
        "id": "FuA7Dol7Li8J"
      },
      "source": [
        "次に `nan` 以外の値だけ抽出しましょう。"
      ]
    },
    {
      "cell_type": "code",
      "metadata": {
        "id": "a959ao6FLox0"
      },
      "source": [
        "s1data = s1data[~np.isnan(s1data)]\n",
        "s2data = s2data[~np.isnan(s2data)]\n",
        "print(s1data,\"\\n\",s2data)"
      ],
      "execution_count": null,
      "outputs": []
    },
    {
      "cell_type": "markdown",
      "metadata": {
        "id": "mdsFI968L70L"
      },
      "source": [
        "出力からわかるように、それぞれ整数で各S1、S2のフレーム位置を表していると推測できます。ということはフレームの番号をインデックスにしたら対応する心音データの値をとってこれることになります。インデックスとして使いたいので、ここでは整数に変換しましょう。"
      ]
    },
    {
      "cell_type": "code",
      "metadata": {
        "id": "ParrdSBQMp9I"
      },
      "source": [
        "s1frame = s1data.astype(np.int32)\n",
        "s2frame = s2data.astype(np.int32)\n",
        "print(s1frame,\"\\n\",s2frame)"
      ],
      "execution_count": null,
      "outputs": []
    },
    {
      "cell_type": "markdown",
      "metadata": {
        "id": "ni261RmAlmfR"
      },
      "source": [
        "それでは最後に抽出した II誘導 の波形データを図示してみましょう。"
      ]
    },
    {
      "cell_type": "markdown",
      "metadata": {
        "id": "-CrT53cxF1Jm"
      },
      "source": [
        "# Matplotlibの使い方"
      ]
    },
    {
      "cell_type": "markdown",
      "metadata": {
        "id": "567pGJSlyiQs"
      },
      "source": [
        "## import周りの注意点"
      ]
    },
    {
      "cell_type": "markdown",
      "metadata": {
        "id": "GqTTUY9vtxqE"
      },
      "source": [
        "データの理解において可視化は非常に重要です。\n",
        "\n",
        "Matplotlibでは、ほとんどの描画機能が`pyplot.機能名`で提供されています。慣例的に`import matplotlib.pyplot as plt`でimportし、`plt.機能名`でさまざまな描画機能を使えるようにします。\n",
        "\n",
        "`%matplotlib inline`は、Notebook上にグラフを表示するためのマジックコマンドです。忘れやすいので、注意しましょう。"
      ]
    },
    {
      "cell_type": "code",
      "metadata": {
        "id": "22VD4XRSlxQ3"
      },
      "source": [
        "import matplotlib.pyplot as plt\n",
        "%matplotlib inline"
      ],
      "execution_count": null,
      "outputs": []
    },
    {
      "cell_type": "markdown",
      "metadata": {
        "id": "ikLlq6RJynAf"
      },
      "source": [
        "## 心音データの図示"
      ]
    },
    {
      "cell_type": "markdown",
      "metadata": {
        "id": "xCqKvJsQv8WL"
      },
      "source": [
        "散布図や円グラフ、棒グラフ、線グラフなどいろんなグラフの種類をこのmatplotlibを使って描画することができます。\n",
        "\n",
        "今回は心電図を図示したいので、点と点を連続的につなげる線グラフを描画します。この点と点を繋げてプロットするには、`plt.plot(x, y)`を使います。100個の点を図示したかったらそれぞれのx座標とy座標の配列を入れてあげます。配列の形式はリストでもnumpy配列でもどちらでも大丈夫です。"
      ]
    },
    {
      "cell_type": "markdown",
      "metadata": {
        "id": "ZlJSxXjFw6wA"
      },
      "source": [
        "またグラフのスタイルを調節する機能もたくさんあるので、実際に使う時は色々試してみましょう。"
      ]
    },
    {
      "cell_type": "code",
      "metadata": {
        "id": "BQ5L9MR4l4fJ"
      },
      "source": [
        "scale = 1000 / framerate # 44100 Hz で記録しているので、間隔は 1000 / 44100 ms\n",
        "\n",
        "# データ点のx座標の配列を指定\n",
        "x = np.arange(0, T*1000, scale)\n",
        "\n",
        "# グラフの大きさを指定\n",
        "plt.figure(figsize=(20, 10))\n",
        "\n",
        "# plt.plot(x, y)\n",
        "plt.plot(x, data)\n",
        "\n",
        "# x軸の名前を指定\n",
        "plt.xlabel(\"ms\")\n",
        "\n",
        "# グラフのタイトルを指定\n",
        "plt.title(\"Heartbeat (Index: {})\".format(index))\n",
        "\n",
        "# 図を表示\n",
        "plt.show()"
      ],
      "execution_count": null,
      "outputs": []
    },
    {
      "cell_type": "markdown",
      "metadata": {
        "id": "MFYI9Um2psff"
      },
      "source": [
        "# おまけの宿題\n"
      ]
    },
    {
      "cell_type": "markdown",
      "metadata": {
        "id": "b6oD8G-Mn7KS"
      },
      "source": [
        "解答は[こちらのgithub](https://github.com/Taiki92777/Python-tutorial-0326)からみることができます。"
      ]
    },
    {
      "cell_type": "markdown",
      "metadata": {
        "id": "75O7s4a7Fzl-"
      },
      "source": [
        "問題1\n",
        "\n",
        "index = 1 のデータのプロットに重ねて、S1とS2それぞれのフレーム位置を垂直線でマーキングしてみましょう。"
      ]
    },
    {
      "cell_type": "code",
      "metadata": {
        "id": "xZJihaT8F5wx"
      },
      "source": [
        "# データ点のx座標の配列を指定\n",
        "x = np.arange(0, T*1000, 1000 / framerate) # 44100 Hz で記録しているので、間隔は 1000 / 44100 ms\n",
        "\n",
        "# S1, S2 それぞれの座標を指定\n",
        "s1x = s1frame * scale\n",
        "s2x = s2frame * scale\n",
        "\n",
        "# グラフの大きさを指定\n",
        "plt.figure(figsize=(20, 10))\n",
        "\n",
        "# plt.plot(x, y)\n",
        "plt.plot(x, data, zorder=1, label=\"Heartbeat\")\n",
        "\n",
        "# S1とS2を散布図でマーキング\n",
        "plt.vlines(s1x,-33000,33000,color=\"red\", zorder=2, label=\"S1\")\n",
        "plt.vlines(s2x,-33000,33000, color=\"yellow\", zorder=2, label=\"S2\")\n",
        "\n",
        "# 各線や点の説明を表示する\n",
        "plt.legend(loc=\"upper right\")\n",
        "\n",
        "# x軸の名前を指定\n",
        "plt.xlabel(\"ms\")\n",
        "\n",
        "# グラフのタイトルを指定\n",
        "plt.title(\"Heartbeat (Index: {})\".format(index))\n",
        "\n",
        "# 図を表示\n",
        "plt.show()"
      ],
      "execution_count": null,
      "outputs": []
    },
    {
      "cell_type": "markdown",
      "metadata": {
        "id": "qlJoVfvzPFmi"
      },
      "source": [
        "問題２\n",
        "\n",
        "ある index の心音データの波形を図示する関数を作ってみましょう。"
      ]
    },
    {
      "cell_type": "code",
      "metadata": {
        "id": "zJxwcIyYqJG-"
      },
      "source": [
        "def displayHb(index):\n",
        "    # index に対応するファイル名の取得\n",
        "    FILE = df[\"Unnamed: 0\"][index]\n",
        "\n",
        "    # ファイルのパスを指定して開く\n",
        "    PATH = \"/content/heartbeat/Atraining_normal/\" + FILE # ファイル名だけでなく、ファイルの場所を指定する必要がある（パス）\n",
        "    f = aifc.open(PATH,\"rb\")\n",
        "\n",
        "    # フレーム数・フレームレート・記録時間を取得\n",
        "    nframes = f.getnframes()\n",
        "    framerate = f.getframerate()\n",
        "    T = nframes / framerate\n",
        "\n",
        "    # 全フレームのデータを取得\n",
        "    frames = f.readframes(nframes)\n",
        "\n",
        "    # フレームデータを int16 型　のnumpy配列に変換\n",
        "    data = np.frombuffer(frames, dtype=\"int16\")\n",
        "\n",
        "    # メモリのスケールを指定 [ms]\n",
        "    scale = 1000 / framerate # 44100 Hz で記録しているので、間隔は 1000 / 44100 ms\n",
        "\n",
        "    # データ点のx座標の配列を指定\n",
        "    x = np.arange(0, T*1000, scale)\n",
        "\n",
        "    # グラフの大きさを指定\n",
        "    plt.figure(figsize=(20, 10))\n",
        "\n",
        "    # plt.plot(x, y)\n",
        "    plt.plot(x, data)\n",
        "\n",
        "    # x軸の名前を指定\n",
        "    plt.xlabel(\"ms\")\n",
        "\n",
        "    # グラフのタイトルを指定\n",
        "    plt.title(\"Heartbeat (Index: {})\".format(index))\n",
        "\n",
        "    # 図を表示\n",
        "    plt.show()"
      ],
      "execution_count": null,
      "outputs": []
    },
    {
      "cell_type": "code",
      "metadata": {
        "id": "n4tgDV13sc5E"
      },
      "source": [
        "# test\n",
        "# indexが[3, 5, 8, 10, 16]のいずれかはファイルが開けないのでそれ以外\n",
        "\n",
        "index = 1\n",
        "displayHb(index)"
      ],
      "execution_count": null,
      "outputs": []
    },
    {
      "cell_type": "markdown",
      "metadata": {
        "id": "qjS9CDNj1qA-"
      },
      "source": [
        "問題3\n",
        "\n",
        "ある index の心音データのプロットに重ねてS1とS2のフレーム位置を垂直線でマーキングする関数を作ってみましょう。"
      ]
    },
    {
      "cell_type": "code",
      "metadata": {
        "id": "s6XFWdSAZ0pe"
      },
      "source": [
        "def displayHbWithS1S2(index):\n",
        "    # s1, s2のフレーム位置を取得\n",
        "    s1data = df.loc[index,s1cols].values\n",
        "    s2data = df.loc[index,s2cols].values\n",
        "\n",
        "    # s1, s2のフレーム位置配列をそれぞれ　nan を除いた int32 型 のnumpy配列に変換\n",
        "    s1data = s1data.astype(np.float32)\n",
        "    s2data = s2data.astype(np.float32)\n",
        "\n",
        "    s1data = s1data[~np.isnan(s1data)]\n",
        "    s2data = s2data[~np.isnan(s2data)]\n",
        "\n",
        "    s1frame = s1data.astype(np.int32)\n",
        "    s2frame = s2data.astype(np.int32)\n",
        "\n",
        "    # index に対応するファイル名の取得\n",
        "    FILE = df[\"Unnamed: 0\"][index]\n",
        "\n",
        "    # ファイルのパスを指定して開く\n",
        "    PATH = \"/content/heartbeat/Atraining_normal/\" + FILE # ファイル名だけでなく、ファイルの場所を指定する必要がある（パス）\n",
        "    f = aifc.open(PATH,\"rb\")\n",
        "\n",
        "    # フレーム数・フレームレート・記録時間を取得\n",
        "    nframes = f.getnframes()\n",
        "    framerate = f.getframerate()\n",
        "    T = nframes / framerate\n",
        "\n",
        "    # 全フレームのデータを取得\n",
        "    frames = f.readframes(nframes)\n",
        "\n",
        "    # フレームデータを int16 型　のnumpy配列に変換\n",
        "    data = np.frombuffer(frames, dtype=\"int16\")\n",
        "\n",
        "    # メモリのスケールを指定 [ms]\n",
        "    scale = 1000 / framerate # 44100 Hz で記録しているので、間隔は 1000 / 44100 ms\n",
        "\n",
        "    # データ点のx座標の配列を指定\n",
        "    x = np.arange(0, T*1000, scale)\n",
        "\n",
        "    # S1, S2 それぞれの座標を指定\n",
        "    s1x = s1frame * scale\n",
        "    s2x = s2frame * scale\n",
        "\n",
        "    # グラフの大きさを指定\n",
        "    plt.figure(figsize=(20, 10))\n",
        "\n",
        "    # plt.plot(x, y)\n",
        "    plt.plot(x, data, zorder=1)\n",
        "\n",
        "    # S1とS2を散布図でマーキング\n",
        "    plt.vlines(s1x,-33000,33000,color=\"red\", zorder=2, label=\"S1\")\n",
        "    plt.vlines(s2x,-33000,33000, color=\"yellow\", zorder=2, label=\"S2\")\n",
        "\n",
        "    # 各線や点の説明を表示する\n",
        "    plt.legend(loc=\"upper right\")\n",
        "\n",
        "    # x軸の名前を指定\n",
        "    plt.xlabel(\"ms\")\n",
        "\n",
        "    # グラフのタイトルを指定\n",
        "    plt.title(\"Heartbeat (Index: {})\".format(index))\n",
        "\n",
        "    # 図を表示\n",
        "    plt.show()"
      ],
      "execution_count": null,
      "outputs": []
    },
    {
      "cell_type": "code",
      "metadata": {
        "id": "JjM5YgeaaG4t"
      },
      "source": [
        "# test\n",
        "# indexが[2, 6, 7, 9]以外はファイルが開けない\n",
        "\n",
        "index = 2\n",
        "displayHbWithS1S2(index)"
      ],
      "execution_count": null,
      "outputs": []
    },
    {
      "cell_type": "markdown",
      "metadata": {
        "id": "KVpVenUZ1un9"
      },
      "source": [
        "© 2021 Apollon.ai All rights reserved."
      ]
    }
  ]
}